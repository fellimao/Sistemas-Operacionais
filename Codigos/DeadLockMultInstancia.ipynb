{
 "cells": [
  {
   "cell_type": "code",
   "execution_count": 25,
   "metadata": {},
   "outputs": [],
   "source": [
    "# autor: Felipe Marcelo, Henrique Tostes\n",
    "# data: 16 de maio de 2020\n",
    "# Algoritmo para verificar se multiplos processos estao em deadlock"
   ]
  },
  {
   "cell_type": "code",
   "execution_count": 1,
   "metadata": {},
   "outputs": [],
   "source": [
    "import numpy as np\n",
    "import operator"
   ]
  },
  {
   "cell_type": "code",
   "execution_count": 76,
   "metadata": {},
   "outputs": [
    {
     "name": "stdin",
     "output_type": "stream",
     "text": [
      "Quantidade de tipos de recursos: 4\n",
      "Quantidade de processos: 4\n",
      "Quantidade de recursos disponives do recurso 1:  1\n",
      "Quantidade de recursos disponives do recurso 2:  1\n",
      "Quantidade de recursos disponives do recurso 3:  0\n",
      "Quantidade de recursos disponives do recurso 4:  0\n"
     ]
    }
   ],
   "source": [
    "qntRecursosAloc = input(\"Quantidade de tipos de recursos:\")\n",
    "qntProcAloc = input(\"Quantidade de processos:\")\n",
    "\n",
    "qntProcAloc = int(qntProcAloc)\n",
    "qntRecursosAloc = int(qntRecursosAloc)\n",
    "\n",
    "recDisponivel = []\n",
    "for i in range(qntRecursosAloc):\n",
    "    recDisponivel.append(int(input(\"Quantidade de recursos disponives do recurso {0}: \".format(i + 1))))\n",
    "\n",
    "listaProc = []\n",
    "for i in range(qntProcAloc):\n",
    "    listaProc.append(i)\n",
    "    \n"
   ]
  },
  {
   "cell_type": "code",
   "execution_count": 68,
   "metadata": {},
   "outputs": [],
   "source": [
    "# criando matriz de alocacao e de requisicao\n",
    "alocacao = np.zeros((qntProcAloc, qntRecursosAloc), dtype = \"int64\")\n",
    "requisicao =  np.zeros((qntProcAloc, qntRecursosAloc), dtype = \"int64\")"
   ]
  },
  {
   "cell_type": "code",
   "execution_count": 69,
   "metadata": {},
   "outputs": [
    {
     "name": "stdin",
     "output_type": "stream",
     "text": [
      "Entre com a quantidade de recurso A que o processo 1 tem alocado: 0\n",
      "Entre com a quantidade de recurso B que o processo 1 tem alocado: 1\n",
      "Entre com a quantidade de recurso C que o processo 1 tem alocado: 0\n",
      "Entre com a quantidade de recurso D que o processo 1 tem alocado: 0\n",
      "Entre com a quantidade de recurso A que o processo 2 tem alocado: 2\n",
      "Entre com a quantidade de recurso B que o processo 2 tem alocado: 0\n",
      "Entre com a quantidade de recurso C que o processo 2 tem alocado: 0\n",
      "Entre com a quantidade de recurso D que o processo 2 tem alocado: 0\n",
      "Entre com a quantidade de recurso A que o processo 3 tem alocado: 1\n",
      "Entre com a quantidade de recurso B que o processo 3 tem alocado: 0\n",
      "Entre com a quantidade de recurso C que o processo 3 tem alocado: 2\n",
      "Entre com a quantidade de recurso D que o processo 3 tem alocado: 0\n",
      "Entre com a quantidade de recurso A que o processo 4 tem alocado: 0\n",
      "Entre com a quantidade de recurso B que o processo 4 tem alocado: 1\n",
      "Entre com a quantidade de recurso C que o processo 4 tem alocado: 0\n",
      "Entre com a quantidade de recurso D que o processo 4 tem alocado: 2\n"
     ]
    }
   ],
   "source": [
    "# preenchendo quantidade de recursos para cada processo \n",
    "for i in range(qntProcAloc):\n",
    "    for j in range(qntRecursosAloc):\n",
    "        if j == 0:\n",
    "            alocacao[i][j] = input(\"Entre com a quantidade de recurso A que o processo {0} tem alocado:\".format(i + 1))\n",
    "        elif j == 1:\n",
    "            alocacao[i][j] = input(\"Entre com a quantidade de recurso B que o processo {0} tem alocado:\".format(i + 1))\n",
    "        elif j == 2:\n",
    "            alocacao[i][j] = input(\"Entre com a quantidade de recurso C que o processo {0} tem alocado:\".format(i + 1))\n",
    "        elif j == 3: \n",
    "            alocacao[i][j] = input(\"Entre com a quantidade de recurso D que o processo {0} tem alocado:\".format(i + 1))"
   ]
  },
  {
   "cell_type": "code",
   "execution_count": 70,
   "metadata": {},
   "outputs": [
    {
     "name": "stdin",
     "output_type": "stream",
     "text": [
      "Entre com a quantidade de recurso A que o processo 1 requisitou: 3\n",
      "Entre com a quantidade de recurso B que o processo 1 requisitou: 1\n",
      "Entre com a quantidade de recurso C que o processo 1 requisitou: 1\n",
      "Entre com a quantidade de recurso D que o processo 1 tem alocado: 1\n",
      "Entre com a quantidade de recurso A que o processo 2 requisitou: 2\n",
      "Entre com a quantidade de recurso B que o processo 2 requisitou: 3\n",
      "Entre com a quantidade de recurso C que o processo 2 requisitou: 1\n",
      "Entre com a quantidade de recurso D que o processo 2 tem alocado: 0\n",
      "Entre com a quantidade de recurso A que o processo 3 requisitou: 1\n",
      "Entre com a quantidade de recurso B que o processo 3 requisitou: 0\n",
      "Entre com a quantidade de recurso C que o processo 3 requisitou: 0\n",
      "Entre com a quantidade de recurso D que o processo 3 tem alocado: 2\n",
      "Entre com a quantidade de recurso A que o processo 4 requisitou: 1\n",
      "Entre com a quantidade de recurso B que o processo 4 requisitou: 0\n",
      "Entre com a quantidade de recurso C que o processo 4 requisitou: 0\n",
      "Entre com a quantidade de recurso D que o processo 4 tem alocado: 0\n"
     ]
    }
   ],
   "source": [
    "# preenchendo quantidade de recursos para cada processo \n",
    "for i in range(qntProcAloc):\n",
    "    for j in range(qntRecursosAloc):\n",
    "        if j == 0:\n",
    "            requisicao[i][j] = input(\"Entre com a quantidade de recurso A que o processo {0} requisitou:\".format(i + 1))\n",
    "        elif j == 1:\n",
    "            requisicao[i][j] = input(\"Entre com a quantidade de recurso B que o processo {0} requisitou:\".format(i + 1))\n",
    "        elif j == 2:\n",
    "            requisicao[i][j] = input(\"Entre com a quantidade de recurso C que o processo {0} requisitou:\".format(i + 1))\n",
    "        elif j == 3: \n",
    "            requisicao[i][j] = input(\"Entre com a quantidade de recurso D que o processo {0} tem alocado:\".format(i + 1))"
   ]
  },
  {
   "cell_type": "code",
   "execution_count": 107,
   "metadata": {},
   "outputs": [],
   "source": [
    "'''\n",
    "Caso vc queira trabalhar com mais tipos de recurso,\n",
    "adicionar mais condições 'elif' nos 'for' do preen-\n",
    "chimento da matriz de requisicao e alocacao.\n",
    "'''\n"
   ]
  },
  {
   "cell_type": "code",
   "execution_count": 77,
   "metadata": {},
   "outputs": [
    {
     "name": "stdout",
     "output_type": "stream",
     "text": [
      "Processo 4 finalizou execucao e liberou recurso!\n",
      "Recurso disponivel + recurso liberado:\n",
      "  [1, 1, 0, 0] + [0 1 0 2]\n",
      "Processo 3 finalizou execucao e liberou recurso!\n",
      "Recurso disponivel + recurso liberado:\n",
      "  [1, 2, 0, 2] + [1 0 2 0]\n",
      "\n",
      " O sistema esta em deadlock!\n",
      "Processo 1 não pode terminar sua execução!\n",
      "Processo 2 não pode terminar sua execução!\n"
     ]
    }
   ],
   "source": [
    "count = 0\n",
    "\n",
    "# verifa quais processos estao finalizados\n",
    "while(not listaProc == False and count < len(listaProc)):\n",
    "    \n",
    "    # comparando se lista de requisicao de recurso eh menor que recursos disponiveis\n",
    "    if (all(i <= j for i, j in zip(requisicao[listaProc[count]], recDisponivel))) == True:\n",
    "        \n",
    "        # finaliza processo \n",
    "        print(\"Processo {0} finalizou execucao e liberou recurso!\".format(listaProc[count] + 1))\n",
    "        \n",
    "        print(\"Recurso disponivel + recurso liberado:\\n \", recDisponivel, \"+\", alocacao[listaProc[count]] )\n",
    "        \n",
    "        # atualiza valor de recursos\n",
    "        recDisponivel = list(map(operator.add, recDisponivel, list(alocacao[listaProc[count]])))\n",
    "        \n",
    "        # retira processo finalizado da lista de processos\n",
    "        listaProc.pop(count)\n",
    "        count = 0\n",
    "\n",
    "    else:\n",
    "        count+=1\n",
    "\n",
    "# processos que não tem recurso para terminar execucao\n",
    "if((not listaProc) == False):\n",
    "    print(\"\\nO sistema esta em deadlock!\")\n",
    "    for i in listaProc:\n",
    "        print(\"Processo {0} não pode terminar sua execução!\".format(i + 1))\n",
    "else:\n",
    "    print(\"\\nA quantidade de recurso existente é: \",recDisponivel)\n",
    "    print(\"O sistema não está em deadlock!!\")\n",
    "    \n",
    "        "
   ]
  },
  {
   "cell_type": "code",
   "execution_count": null,
   "metadata": {},
   "outputs": [],
   "source": []
  }
 ],
 "metadata": {
  "kernelspec": {
   "display_name": "Python 3",
   "language": "python",
   "name": "python3"
  },
  "language_info": {
   "codemirror_mode": {
    "name": "ipython",
    "version": 3
   },
   "file_extension": ".py",
   "mimetype": "text/x-python",
   "name": "python",
   "nbconvert_exporter": "python",
   "pygments_lexer": "ipython3",
   "version": "3.7.3"
  }
 },
 "nbformat": 4,
 "nbformat_minor": 2
}
