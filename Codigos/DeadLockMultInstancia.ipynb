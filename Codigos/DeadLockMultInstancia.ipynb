{
 "cells": [
  {
   "cell_type": "code",
   "execution_count": 25,
   "metadata": {},
   "outputs": [],
   "source": [
    "# autor: Felipe Marcelo, Henrique Tostes\n",
    "# data: 16 de maio de 2020\n",
    "# Algoritmo para verificar se multiplos processos estao em deadlock"
   ]
  },
  {
   "cell_type": "code",
   "execution_count": 1,
   "metadata": {},
   "outputs": [],
   "source": [
    "import numpy as np\n",
    "import operator"
   ]
  },
  {
   "cell_type": "code",
   "execution_count": 23,
   "metadata": {},
   "outputs": [
    {
     "name": "stdin",
     "output_type": "stream",
     "text": [
      "Quantidade de tipos de recursos: 4\n",
      "Quantidade de processos: 5\n",
      "Quantidade de recursos disponives do recurso 1:  1\n",
      "Quantidade de recursos disponives do recurso 2:  0\n",
      "Quantidade de recursos disponives do recurso 3:  2\n",
      "Quantidade de recursos disponives do recurso 4:  0\n"
     ]
    }
   ],
   "source": [
    "qntRecursosAloc = input(\"Quantidade de tipos de recursos:\")\n",
    "qntProcAloc = input(\"Quantidade de processos:\")\n",
    "\n",
    "qntProcAloc = int(qntProcAloc)\n",
    "qntRecursosAloc = int(qntRecursosAloc)\n",
    "\n",
    "recDisponivel = []\n",
    "\n",
    "for i in range(qntRecursosAloc):\n",
    "    recDisponivel.append(int(input(\"Quantidade de recursos disponives do recurso {0}: \".format(i + 1))))\n",
    "\n",
    "listaProc = []\n",
    "for i in range(qntProcAloc):\n",
    "    listaProc.append(i)\n",
    "    \n"
   ]
  },
  {
   "cell_type": "code",
   "execution_count": 19,
   "metadata": {},
   "outputs": [],
   "source": [
    "# criando matriz de alocacao e de requisicao\n",
    "alocacao = np.zeros((qntProcAloc, qntRecursosAloc), dtype = \"int64\")\n",
    "requisicao =  np.zeros((qntProcAloc, qntRecursosAloc), dtype = \"int64\")"
   ]
  },
  {
   "cell_type": "code",
   "execution_count": 20,
   "metadata": {},
   "outputs": [
    {
     "name": "stdin",
     "output_type": "stream",
     "text": [
      "Entre com a quantidade de recurso A que o processo 1 tem alocado: 3\n",
      "Entre com a quantidade de recurso B que o processo 1 tem alocado: 0\n",
      "Entre com a quantidade de recurso C que o processo 1 tem alocado: 1\n",
      "Entre com a quantidade de recurso D que o processo 1 tem alocado: 1\n",
      "Entre com a quantidade de recurso A que o processo 2 tem alocado: 0\n",
      "Entre com a quantidade de recurso B que o processo 2 tem alocado: 1\n",
      "Entre com a quantidade de recurso C que o processo 2 tem alocado: 0\n",
      "Entre com a quantidade de recurso D que o processo 2 tem alocado: 0\n",
      "Entre com a quantidade de recurso A que o processo 3 tem alocado: 1\n",
      "Entre com a quantidade de recurso B que o processo 3 tem alocado: 1\n",
      "Entre com a quantidade de recurso C que o processo 3 tem alocado: 1\n",
      "Entre com a quantidade de recurso D que o processo 3 tem alocado: 0\n",
      "Entre com a quantidade de recurso A que o processo 4 tem alocado: 1\n",
      "Entre com a quantidade de recurso B que o processo 4 tem alocado: 1\n",
      "Entre com a quantidade de recurso C que o processo 4 tem alocado: 0\n",
      "Entre com a quantidade de recurso D que o processo 4 tem alocado: 1\n",
      "Entre com a quantidade de recurso A que o processo 5 tem alocado: 0\n",
      "Entre com a quantidade de recurso B que o processo 5 tem alocado: 0\n",
      "Entre com a quantidade de recurso C que o processo 5 tem alocado: 0\n",
      "Entre com a quantidade de recurso D que o processo 5 tem alocado: 0\n"
     ]
    }
   ],
   "source": [
    "# preenchendo quantidade de recursos para cada processo \n",
    "for i in range(qntProcAloc):\n",
    "    for j in range(qntRecursosAloc):\n",
    "        if j == 0:\n",
    "            alocacao[i][j] = input(\"Entre com a quantidade de recurso A que o processo {0} tem alocado:\".format(i + 1))\n",
    "        elif j == 1:\n",
    "            alocacao[i][j] = input(\"Entre com a quantidade de recurso B que o processo {0} tem alocado:\".format(i + 1))\n",
    "        elif j == 2:\n",
    "            alocacao[i][j] = input(\"Entre com a quantidade de recurso C que o processo {0} tem alocado:\".format(i + 1))\n",
    "        elif j == 3: \n",
    "            alocacao[i][j] = input(\"Entre com a quantidade de recurso D que o processo {0} tem alocado:\".format(i + 1))"
   ]
  },
  {
   "cell_type": "code",
   "execution_count": 21,
   "metadata": {},
   "outputs": [
    {
     "name": "stdin",
     "output_type": "stream",
     "text": [
      "Entre com a quantidade de recurso A que o processo 1 requisitou: 1\n",
      "Entre com a quantidade de recurso B que o processo 1 requisitou: 1\n",
      "Entre com a quantidade de recurso C que o processo 1 requisitou: 0\n",
      "Entre com a quantidade de recurso D que o processo 1 tem alocado: 0\n",
      "Entre com a quantidade de recurso A que o processo 2 requisitou: 0\n",
      "Entre com a quantidade de recurso B que o processo 2 requisitou: 1\n",
      "Entre com a quantidade de recurso C que o processo 2 requisitou: 1\n",
      "Entre com a quantidade de recurso D que o processo 2 tem alocado: 2\n",
      "Entre com a quantidade de recurso A que o processo 3 requisitou: 3\n",
      "Entre com a quantidade de recurso B que o processo 3 requisitou: 1\n",
      "Entre com a quantidade de recurso C que o processo 3 requisitou: 1\n",
      "Entre com a quantidade de recurso D que o processo 3 tem alocado: 0\n",
      "Entre com a quantidade de recurso A que o processo 4 requisitou: 0\n",
      "Entre com a quantidade de recurso B que o processo 4 requisitou: 0\n",
      "Entre com a quantidade de recurso C que o processo 4 requisitou: 1\n",
      "Entre com a quantidade de recurso D que o processo 4 tem alocado: 0\n",
      "Entre com a quantidade de recurso A que o processo 5 requisitou: 2\n",
      "Entre com a quantidade de recurso B que o processo 5 requisitou: 1\n",
      "Entre com a quantidade de recurso C que o processo 5 requisitou: 1\n",
      "Entre com a quantidade de recurso D que o processo 5 tem alocado: 0\n"
     ]
    }
   ],
   "source": [
    "# preenchendo quantidade de recursos para cada processo \n",
    "for i in range(qntProcAloc):\n",
    "    for j in range(qntRecursosAloc):\n",
    "        if j == 0:\n",
    "            requisicao[i][j] = input(\"Entre com a quantidade de recurso A que o processo {0} requisitou:\".format(i + 1))\n",
    "        elif j == 1:\n",
    "            requisicao[i][j] = input(\"Entre com a quantidade de recurso B que o processo {0} requisitou:\".format(i + 1))\n",
    "        elif j == 2:\n",
    "            requisicao[i][j] = input(\"Entre com a quantidade de recurso C que o processo {0} requisitou:\".format(i + 1))\n",
    "        elif j == 3: \n",
    "            requisicao[i][j] = input(\"Entre com a quantidade de recurso D que o processo {0} tem alocado:\".format(i + 1))"
   ]
  },
  {
   "cell_type": "code",
   "execution_count": 107,
   "metadata": {},
   "outputs": [],
   "source": [
    "'''\n",
    "Caso vc queira trabalhar com mais tipos de recurso,\n",
    "adicionar mais condições 'elif' nos 'for' do preen-\n",
    "chimento da matriz de requisicao e alocacao.\n",
    "'''\n"
   ]
  },
  {
   "cell_type": "code",
   "execution_count": 24,
   "metadata": {},
   "outputs": [
    {
     "name": "stdout",
     "output_type": "stream",
     "text": [
      "Processo 4 finalizou execucao e liberou recurso\n",
      "Recurso disponivel + recurso liberado:\n",
      "  [1, 0, 2, 0] + [1 1 0 1]\n",
      "Processo 1 finalizou execucao e liberou recurso\n",
      "Recurso disponivel + recurso liberado:\n",
      "  [2, 1, 2, 1] + [3 0 1 1]\n",
      "Processo 2 finalizou execucao e liberou recurso\n",
      "Recurso disponivel + recurso liberado:\n",
      "  [5, 1, 3, 2] + [3 0 1 1]\n",
      "Processo 3 finalizou execucao e liberou recurso\n",
      "Recurso disponivel + recurso liberado:\n",
      "  [8, 1, 4, 3] + [3 0 1 1]\n",
      "Processo 5 finalizou execucao e liberou recurso\n",
      "Recurso disponivel + recurso liberado:\n",
      "  [11, 1, 5, 4] + [3 0 1 1]\n",
      "O sistema não esta em deadlock\n"
     ]
    }
   ],
   "source": [
    "count = 0\n",
    "\n",
    "# verifa quais processos estao finalizados\n",
    "while(not listaProc == False and count < len(listaProc)):\n",
    "    \n",
    "    # comparando se lista de requisicao de recurso eh menor que recursos disponiveis\n",
    "    if (all(i <= j for i, j in zip(requisicao[count], recDisponivel))) == True:\n",
    "        \n",
    "        # finaliza processo \n",
    "        print(\"Processo {0} finalizou execucao e liberou recurso\".format(listaProc[count] + 1))\n",
    "        \n",
    "        print(\"Recurso disponivel + recurso liberado:\\n \", recDisponivel, \"+\", alocacao[count] )\n",
    "        # atualiza valor de recursos\n",
    "        recDisponivel = list(map(operator.add, recDisponivel, list(alocacao[count])))\n",
    "        \n",
    "        # retira processo finalizado da lista de processo\n",
    "        listaProc.pop(count)\n",
    "        count = 0\n",
    "\n",
    "    else:\n",
    "        count+=1\n",
    "\n",
    "# processos que não tem recurso para terminar execucao\n",
    "if((not listaProc) == False):\n",
    "    print(listaProc)\n",
    "    \n",
    "    for i in listaProc:\n",
    "        print(\"Processo {0} esta em deadlock\".format(i + 1))\n",
    "else:\n",
    "    print(\"O sistema não esta em deadlock\")\n",
    "        "
   ]
  },
  {
   "cell_type": "code",
   "execution_count": null,
   "metadata": {},
   "outputs": [],
   "source": []
  }
 ],
 "metadata": {
  "kernelspec": {
   "display_name": "Python 3",
   "language": "python",
   "name": "python3"
  },
  "language_info": {
   "codemirror_mode": {
    "name": "ipython",
    "version": 3
   },
   "file_extension": ".py",
   "mimetype": "text/x-python",
   "name": "python",
   "nbconvert_exporter": "python",
   "pygments_lexer": "ipython3",
   "version": "3.7.3"
  }
 },
 "nbformat": 4,
 "nbformat_minor": 2
}
